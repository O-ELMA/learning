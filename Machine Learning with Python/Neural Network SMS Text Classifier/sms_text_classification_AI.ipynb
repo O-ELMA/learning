{
  "cells": [
    {
      "cell_type": "code",
      "execution_count": null,
      "metadata": {
        "id": "8RZOuS9LWQvv"
      },
      "outputs": [],
      "source": [
        "# import libraries\n",
        "try:\n",
        "  # %tensorflow_version only exists in Colab.\n",
        "  !pip install tf-nightly\n",
        "except Exception:\n",
        "  pass\n",
        "import tensorflow as tf\n",
        "import pandas as pd\n",
        "from tensorflow import keras\n",
        "!pip install tensorflow-datasets\n",
        "import tensorflow_datasets as tfds\n",
        "import numpy as np\n",
        "import matplotlib.pyplot as plt\n",
        "\n",
        "print(tf.__version__)"
      ]
    },
    {
      "cell_type": "code",
      "execution_count": null,
      "metadata": {
        "id": "lMHwYXHXCar3"
      },
      "outputs": [],
      "source": [
        "# get data files\n",
        "!wget https://cdn.freecodecamp.org/project-data/sms/train-data.tsv\n",
        "!wget https://cdn.freecodecamp.org/project-data/sms/valid-data.tsv\n",
        "\n",
        "train_file_path = \"train-data.tsv\"\n",
        "test_file_path = \"valid-data.tsv\""
      ]
    },
    {
      "cell_type": "code",
      "execution_count": null,
      "metadata": {
        "id": "g_h508FEClxO"
      },
      "outputs": [],
      "source": [
        "## Loading and preparing the data\n",
        "\n",
        "# Create mappings for each categorical data\n",
        "OUTPUT_MAPPING = {0: \"ham\", 1: \"spam\"}\n",
        "\n",
        "# Replace categorical data in the dataset in place & load the training and testing datasets\n",
        "train_dataset = pd.read_csv(train_file_path, sep='\\t', header=None)\n",
        "test_dataset = pd.read_csv(test_file_path, sep='\\t', header=None)\n",
        "\n",
        "train_dataset[0].replace(\n",
        "    ['ham', 'spam'],\n",
        "    [0, 1],\n",
        "    inplace=True\n",
        ")\n",
        "test_dataset[0].replace(\n",
        "    ['ham', 'spam'],\n",
        "    [0, 1],\n",
        "    inplace=True\n",
        ")\n",
        "\n",
        "train_labels = train_dataset.pop(0)\n",
        "test_labels = test_dataset.pop(0)"
      ]
    },
    {
      "cell_type": "code",
      "source": [
        "## Text preprocessing\n",
        "\n",
        "# Tokenize the text data to sequences of integers\n",
        "tokenizer = keras.preprocessing.text.Tokenizer()\n",
        "tokenizer.fit_on_texts(train_dataset[1])\n",
        "\n",
        "# Convert the text to sequences (lists of integers)\n",
        "train_sequences = tokenizer.texts_to_sequences(train_dataset[1])\n",
        "test_sequences = tokenizer.texts_to_sequences(test_dataset[1])\n",
        "\n",
        "# Pad sequences to ensure they all have the same length of 100\n",
        "train_sequences_padded = keras.preprocessing.sequence.pad_sequences(train_sequences, maxlen=100)\n",
        "test_sequences_padded = keras.preprocessing.sequence.pad_sequences(test_sequences, maxlen=100)\n",
        "\n",
        "# Convert labels to numpy arrays\n",
        "train_labels = np.array(train_labels)\n",
        "test_labels = np.array(test_labels)"
      ],
      "metadata": {
        "id": "9lo0jm6A9QMY"
      },
      "execution_count": null,
      "outputs": []
    },
    {
      "cell_type": "code",
      "execution_count": null,
      "metadata": {
        "id": "zOMKywn4zReN"
      },
      "outputs": [],
      "source": [
        "# Creating the model\n",
        "vocab_size = len(tokenizer.word_index) + 1\n",
        "\n",
        "model = keras.models.Sequential()\n",
        "model.add(keras.layers.Embedding(input_dim=vocab_size, output_dim=32, input_length=100))\n",
        "model.add(keras.layers.GlobalAveragePooling1D())\n",
        "model.add(keras.layers.Dense(16, activation='relu'))\n",
        "model.add(keras.layers.Dense(1, activation='sigmoid'))\n",
        "\n",
        "model.compile(\n",
        "    optimizer = 'adam',\n",
        "    loss = 'binary_crossentropy',\n",
        "    metrics = ['accuracy']\n",
        ")\n",
        "\n",
        "model.summary()\n",
        "\n",
        "# Training the model\n",
        "history = model.fit(\n",
        "    train_sequences_padded,\n",
        "    train_labels,\n",
        "    epochs=8,\n",
        "    batch_size=32,\n",
        "    validation_data=(\n",
        "      test_sequences_padded,\n",
        "      test_labels\n",
        "    ),\n",
        "    verbose=1\n",
        ")\n",
        "\n",
        "test_loss, test_accuracy = model.evaluate(test_sequences_padded, test_labels)\n",
        "print(f\"Test Loss: {test_loss}, Test Accuracy: {test_accuracy}\")\n",
        "\n",
        "# Plot accuracy\n",
        "plt.plot(history.history['accuracy'], label='train_accuracy')\n",
        "plt.plot(history.history['val_accuracy'], label='val_accuracy')\n",
        "plt.xlabel('Epochs')\n",
        "plt.ylabel('Accuracy')\n",
        "plt.legend()\n",
        "plt.show()\n",
        "\n",
        "# Plot loss\n",
        "plt.plot(history.history['loss'], label='train_loss')\n",
        "plt.plot(history.history['val_loss'], label='val_loss')\n",
        "plt.xlabel('Epochs')\n",
        "plt.ylabel('Loss')\n",
        "plt.legend()\n",
        "plt.show()"
      ]
    },
    {
      "cell_type": "code",
      "execution_count": null,
      "metadata": {
        "id": "J9tD9yACG6M9"
      },
      "outputs": [],
      "source": [
        "# function to predict messages based on model\n",
        "# (should return list containing prediction and label, ex. [0.008318834938108921, 'ham'])\n",
        "def predict_message(pred_text):\n",
        "\n",
        "  encoded_text = tokenizer.texts_to_sequences([pred_text])\n",
        "  pred_text_padded = keras.preprocessing.sequence.pad_sequences(encoded_text, maxlen=100)\n",
        "\n",
        "  prediction = model.predict(pred_text_padded)\n",
        "\n",
        "  probability = prediction.flatten()[0]\n",
        "  label = OUTPUT_MAPPING[int(round(probability))]\n",
        "\n",
        "  return [probability, label]\n",
        "\n",
        "pred_text = \"how are you doing today?\"\n",
        "\n",
        "prediction = predict_message(pred_text)\n",
        "print(prediction)"
      ]
    },
    {
      "cell_type": "code",
      "execution_count": null,
      "metadata": {
        "id": "Dxotov85SjsC"
      },
      "outputs": [],
      "source": [
        "# Run this cell to test your function and model. Do not modify contents.\n",
        "def test_predictions():\n",
        "  test_messages = [\"how are you doing today\",\n",
        "                   \"sale today! to stop texts call 98912460324\",\n",
        "                   \"i dont want to go. can we try it a different day? available sat\",\n",
        "                   \"our new mobile video service is live. just install on your phone to start watching.\",\n",
        "                   \"you have won £1000 cash! call to claim your prize.\",\n",
        "                   \"i'll bring it tomorrow. don't forget the milk.\",\n",
        "                   \"wow, is your arm alright. that happened to me one time too\"\n",
        "                  ]\n",
        "\n",
        "  test_answers = [\"ham\", \"spam\", \"ham\", \"spam\", \"spam\", \"ham\", \"ham\"]\n",
        "  passed = True\n",
        "\n",
        "  for msg, ans in zip(test_messages, test_answers):\n",
        "    prediction = predict_message(msg)\n",
        "    if prediction[1] != ans:\n",
        "      passed = False\n",
        "\n",
        "  if passed:\n",
        "    print(\"You passed the challenge. Great job!\")\n",
        "  else:\n",
        "    print(\"You haven't passed yet. Keep trying.\")\n",
        "\n",
        "test_predictions()\n"
      ]
    }
  ],
  "metadata": {
    "colab": {
      "private_outputs": true,
      "provenance": []
    },
    "kernelspec": {
      "display_name": "Python 3",
      "name": "python3"
    },
    "language_info": {}
  },
  "nbformat": 4,
  "nbformat_minor": 0
}